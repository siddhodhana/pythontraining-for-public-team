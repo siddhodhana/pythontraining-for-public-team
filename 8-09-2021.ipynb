{
 "cells": [
  {
   "cell_type": "markdown",
   "metadata": {},
   "source": [
    "## Day Objectives\n",
    "\n",
    "- Comments\n",
    "- Variables\n",
    "- Keywords\n",
    "- Operators\n"
   ]
  },
  {
   "cell_type": "markdown",
   "metadata": {},
   "source": [
    "- Comments\n",
    "    - To hold particular lines\n",
    "- Types of comments\n",
    "    - Single line comment (#)\n",
    "    - Multi line comments (\"\"\" code \"\"\")"
   ]
  },
  {
   "cell_type": "code",
   "execution_count": 4,
   "metadata": {},
   "outputs": [
    {
     "name": "stdout",
     "output_type": "stream",
     "text": [
      "RGUKT\n",
      "Hello world\n"
     ]
    }
   ],
   "source": [
    "## print('APSSDC') ## Single line comment\n",
    "print(\"RGUKT\")\n",
    "\n",
    "\"\"\"print('Nandini')\n",
    "print('N130663')    ## multi line comments\n",
    "print('ECE') \"\"\"\n",
    "\n",
    "print('Hello world')"
   ]
  },
  {
   "cell_type": "markdown",
   "metadata": {},
   "source": [
    "## Variables\n",
    "\n",
    "- Which is used to store values in a specific memory location\n",
    "- Rules for declaring variables\n",
    "    - 1. Variable name should not starts with keywords\n",
    "    - 2. Variable name should not starts with integers\n",
    "    - 3. Don't give spaces\n",
    "    - 4. Variable name should not starts with special symbols\n",
    "    - 5. but it starts only letters & underscore(_)\n",
    "    - 6. Should not starts with functions names\n",
    "    \n"
   ]
  },
  {
   "cell_type": "code",
   "execution_count": 11,
   "metadata": {},
   "outputs": [
    {
     "name": "stdout",
     "output_type": "stream",
     "text": [
      "78\n",
      "67\n"
     ]
    }
   ],
   "source": [
    "a = 5\n",
    "b = 'abc'\n",
    "c = 7.8\n",
    "name1 = 'Nandini'\n",
    "name2 = 'Siddodhana'\n",
    "# 1name\n",
    "# 2name\n",
    "#first name = 'Chamarthi'\n",
    "#print(first name)\n",
    "#@abc = 6\n",
    "#print(@abc)\n",
    "\n",
    "_xyz = 78\n",
    "print(_xyz)\n",
    "\n",
    "pow = 67\n",
    "print(pow)\n"
   ]
  },
  {
   "cell_type": "markdown",
   "metadata": {},
   "source": [
    "## Keywords\n",
    "\n",
    "- We can call those as reserverd words\n",
    "- Keywords cannot used as a varaibles name, function name"
   ]
  },
  {
   "cell_type": "code",
   "execution_count": 12,
   "metadata": {},
   "outputs": [
    {
     "name": "stdout",
     "output_type": "stream",
     "text": [
      "['False', 'None', 'True', 'and', 'as', 'assert', 'async', 'await', 'break', 'class', 'continue', 'def', 'del', 'elif', 'else', 'except', 'finally', 'for', 'from', 'global', 'if', 'import', 'in', 'is', 'lambda', 'nonlocal', 'not', 'or', 'pass', 'raise', 'return', 'try', 'while', 'with', 'yield']\n"
     ]
    }
   ],
   "source": [
    "import keyword\n",
    "print(keyword.kwlist)"
   ]
  },
  {
   "cell_type": "code",
   "execution_count": 13,
   "metadata": {},
   "outputs": [
    {
     "name": "stdout",
     "output_type": "stream",
     "text": [
      "35\n"
     ]
    }
   ],
   "source": [
    "print(len(keyword.kwlist))"
   ]
  },
  {
   "cell_type": "code",
   "execution_count": 14,
   "metadata": {},
   "outputs": [
    {
     "name": "stdout",
     "output_type": "stream",
     "text": [
      "5\n",
      "abc\n"
     ]
    }
   ],
   "source": [
    "a = 5\n",
    "b = 'abc'\n",
    "print(a)\n",
    "print(b)"
   ]
  },
  {
   "cell_type": "code",
   "execution_count": 15,
   "metadata": {},
   "outputs": [
    {
     "name": "stdout",
     "output_type": "stream",
     "text": [
      "45\n",
      "45\n",
      "45\n"
     ]
    }
   ],
   "source": [
    "n1 = 45\n",
    "n2 = n3 = n4 = n1 ## multi variable assignment with same value\n",
    "print(n2)\n",
    "print(n3)\n",
    "print(n4)"
   ]
  },
  {
   "cell_type": "code",
   "execution_count": 16,
   "metadata": {},
   "outputs": [
    {
     "name": "stdout",
     "output_type": "stream",
     "text": [
      "123\n",
      "234\n",
      "456\n"
     ]
    }
   ],
   "source": [
    "x,y,z = 123,234,456 ## multi varaible assignment with different values\n",
    "print(x)\n",
    "print(y)\n",
    "print(z)"
   ]
  },
  {
   "cell_type": "markdown",
   "metadata": {},
   "source": [
    "## Operators\n",
    "\n",
    "- Used for perform mathematical operations\n",
    "- Arithmetic operators (+,-,*,/,%(Modulo division),//(floor division),**(power))\n",
    "- Assignment operators (=, +=, -=, *=, /=)\n",
    "- Comparison operators (==, !=, <, >, <=, >=)\n",
    "- Logical operators( and, or, not)\n",
    "- Identity operators(is, is not)\n",
    "- Membership operators(in, not in)\n",
    "- Bitwise operators(&,|,^,<<,>>)\n",
    "\n"
   ]
  },
  {
   "cell_type": "code",
   "execution_count": 23,
   "metadata": {},
   "outputs": [
    {
     "name": "stdout",
     "output_type": "stream",
     "text": [
      "11\n",
      "5\n",
      "24\n",
      "2.6666666666666665\n",
      "2\n",
      "2\n",
      "512\n",
      "6561\n"
     ]
    }
   ],
   "source": [
    "## Arithmetic operators\n",
    "\n",
    "a = 8\n",
    "b = 3\n",
    "print(a+b) # 8 + 3\n",
    "print(a-b)  # 8 - 3\n",
    "print(a*b)\n",
    "print(a/b)\n",
    "print(a%b)\n",
    "print(a//b)\n",
    "print(a ** b) ## 8^3 \n",
    "print(b ** a)  ## 3^8"
   ]
  },
  {
   "cell_type": "code",
   "execution_count": 20,
   "metadata": {},
   "outputs": [
    {
     "data": {
      "text/plain": [
       "2.6666666666666665"
      ]
     },
     "execution_count": 20,
     "metadata": {},
     "output_type": "execute_result"
    }
   ],
   "source": [
    "8/3"
   ]
  },
  {
   "cell_type": "code",
   "execution_count": 27,
   "metadata": {},
   "outputs": [
    {
     "name": "stdout",
     "output_type": "stream",
     "text": [
      "30\n",
      "10\n",
      "200\n",
      "10.0\n"
     ]
    }
   ],
   "source": [
    "## Assignment operators\n",
    "\n",
    "a = 10\n",
    "b = 20\n",
    "a += b  ## a = a+b , a = 10+20 \n",
    "print(a)\n",
    "\n",
    "a -= b  ## a = a-b , a = 30-20\n",
    "print(a)\n",
    "\n",
    "a *= b\n",
    "print(a)\n",
    "\n",
    "a /= b\n",
    "print(a)\n"
   ]
  },
  {
   "cell_type": "code",
   "execution_count": 36,
   "metadata": {},
   "outputs": [
    {
     "name": "stdout",
     "output_type": "stream",
     "text": [
      "False\n",
      "True\n",
      "True\n",
      "False\n",
      "False\n",
      "True\n",
      "True\n",
      "False\n",
      "True\n"
     ]
    }
   ],
   "source": [
    "# comparison operators\n",
    "\n",
    "x = 10\n",
    "y = 20\n",
    "z = 10\n",
    "print( x == y) ## 10 == 20\n",
    "print(x == z) ## 10 == 10\n",
    "print(x < y) # 10 < 20\n",
    "print(x > y) # 10 > 20\n",
    "print(x < z)  # 10 < 10\n",
    "print(x <= z) ## 10 <= 10\n",
    "print(x >= z)\n",
    "print( x != z)\n",
    "print( x != y)"
   ]
  },
  {
   "cell_type": "code",
   "execution_count": 38,
   "metadata": {},
   "outputs": [
    {
     "name": "stdout",
     "output_type": "stream",
     "text": [
      "False\n",
      "True\n"
     ]
    }
   ],
   "source": [
    "# Logical operators\n",
    "\n",
    "# x y xandy\n",
    "# 0 0  0\n",
    "# 0 1  0\n",
    "# 1 0  0\n",
    "# 1 1  1\n",
    "\n",
    "a = 5\n",
    "print(a>4 and a<5)  # 5 > 4 and 5 < 5\n",
    "print(a>4 and a<=5) # 5>4 and 5<=5\n"
   ]
  },
  {
   "cell_type": "code",
   "execution_count": 39,
   "metadata": {},
   "outputs": [
    {
     "name": "stdout",
     "output_type": "stream",
     "text": [
      "True\n"
     ]
    }
   ],
   "source": [
    "# x y x or y\n",
    "# 0 0  0\n",
    "# 0 1  1\n",
    "# 1 0  1\n",
    "# 1 1  1\n",
    "\n",
    "print(a>4 or a<5)  # 5 > 4 or 5 < 5"
   ]
  },
  {
   "cell_type": "code",
   "execution_count": 40,
   "metadata": {},
   "outputs": [
    {
     "name": "stdout",
     "output_type": "stream",
     "text": [
      "False\n"
     ]
    }
   ],
   "source": [
    "print(not(a>4 or a<5))"
   ]
  },
  {
   "cell_type": "code",
   "execution_count": 41,
   "metadata": {},
   "outputs": [
    {
     "name": "stdout",
     "output_type": "stream",
     "text": [
      "False\n",
      "True\n"
     ]
    }
   ],
   "source": [
    "## Identity operators\n",
    "\n",
    "a = 'Sowmya'\n",
    "b = 'sowmya'\n",
    "print(a is b)\n",
    "print(a is not b)\n"
   ]
  },
  {
   "cell_type": "code",
   "execution_count": 44,
   "metadata": {},
   "outputs": [
    {
     "name": "stdout",
     "output_type": "stream",
     "text": [
      "True\n",
      "True\n",
      "False\n"
     ]
    }
   ],
   "source": [
    "## Membership operators\n",
    "\n",
    "x = 'Nandini'\n",
    "print('d' in x)\n",
    "print('z' not in x)\n",
    "print('i' not in x)"
   ]
  },
  {
   "cell_type": "code",
   "execution_count": 47,
   "metadata": {},
   "outputs": [
    {
     "name": "stdout",
     "output_type": "stream",
     "text": [
      "2\n",
      "10\n",
      "8\n"
     ]
    }
   ],
   "source": [
    "## Bitwise operators\n",
    "\n",
    "a = 10   ##   1010  \n",
    "b = 2   ##    0010\n",
    "print(a&b) ## 0010 \n",
    "print(a|b)\n",
    "print(a^b)"
   ]
  },
  {
   "cell_type": "code",
   "execution_count": null,
   "metadata": {},
   "outputs": [],
   "source": [
    "a = 10\n",
    "a<<1"
   ]
  }
 ],
 "metadata": {
  "kernelspec": {
   "display_name": "Python 3",
   "language": "python",
   "name": "python3"
  },
  "language_info": {
   "codemirror_mode": {
    "name": "ipython",
    "version": 3
   },
   "file_extension": ".py",
   "mimetype": "text/x-python",
   "name": "python",
   "nbconvert_exporter": "python",
   "pygments_lexer": "ipython3",
   "version": "3.8.3"
  }
 },
 "nbformat": 4,
 "nbformat_minor": 4
}
