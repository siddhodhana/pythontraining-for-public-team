{
 "cells": [
  {
   "cell_type": "markdown",
   "metadata": {},
   "source": [
    "## File Handling\n",
    "\n",
    "- What is a file?\n",
    "- What is file handling\n",
    "- File methods\n",
    "- Different modes\n",
    "- Use of 'with' statement"
   ]
  },
  {
   "cell_type": "markdown",
   "metadata": {},
   "source": [
    "- File\n",
    "    - File is named location on disk or memory used to store related information\n",
    "    - ex: .txt,.ipynb,.mp4,.mp3,.jpg,.png etc\n",
    "- File Handling\n",
    "    - Creating file, Reading file, Updating file and Deleting file\n",
    "- File methods\n",
    "    - Create file\n",
    "    - open file\n",
    "    - WORk\n",
    "    - Close file\n",
    "- File modes\n",
    "    - r, a, w, a+, w+ ....\n",
    "    - 'r' is default mode\n",
    "    \n",
    "   "
   ]
  },
  {
   "cell_type": "code",
   "execution_count": 3,
   "metadata": {},
   "outputs": [
    {
     "name": "stdout",
     "output_type": "stream",
     "text": [
      "Opened Succussfully...\n"
     ]
    }
   ],
   "source": [
    "## Syntax for open method\n",
    "## open(filename,filemode)\n",
    "\n",
    "## Syntax for close method\n",
    "## filevaraible.close()\n",
    "\n",
    "\n",
    "f = open('file.txt')\n",
    "if f:\n",
    "    print('Opened Succussfully...')\n",
    "\n",
    "f.close() \n",
    "\n",
    "    \n",
    "\n"
   ]
  },
  {
   "cell_type": "code",
   "execution_count": 4,
   "metadata": {},
   "outputs": [
    {
     "name": "stdout",
     "output_type": "stream",
     "text": [
      "Opened Succussfully...\n"
     ]
    }
   ],
   "source": [
    "\n",
    "f = open('file.txt','r')\n",
    "if f:\n",
    "    print('Opened Succussfully...')\n",
    "\n",
    "f.close() \n"
   ]
  },
  {
   "cell_type": "code",
   "execution_count": 5,
   "metadata": {},
   "outputs": [
    {
     "name": "stdout",
     "output_type": "stream",
     "text": [
      "Hello everyone\n",
      "Have a nice day...!\n",
      "\n"
     ]
    }
   ],
   "source": [
    "## Syntax for read method\n",
    "## filevariable.read(size)/ filevariable.read()\n",
    "\n",
    "f = open('file.txt','r')\n",
    "data = f.read()\n",
    "print(data)\n",
    "f.close()"
   ]
  },
  {
   "cell_type": "code",
   "execution_count": 6,
   "metadata": {},
   "outputs": [
    {
     "name": "stdout",
     "output_type": "stream",
     "text": [
      "Hello\n"
     ]
    }
   ],
   "source": [
    "f = open('file.txt','r')\n",
    "data = f.read(5)\n",
    "print(data)\n",
    "f.close()"
   ]
  },
  {
   "cell_type": "markdown",
   "metadata": {},
   "source": [
    "- File Object methods\n",
    "    - seek()\n",
    "        - seek is used to change the specific position or cursor \n",
    "    - tell()\n",
    "        - tell is used to get the current position of cursor"
   ]
  },
  {
   "cell_type": "code",
   "execution_count": 7,
   "metadata": {},
   "outputs": [
    {
     "name": "stdout",
     "output_type": "stream",
     "text": [
      "7\n"
     ]
    }
   ],
   "source": [
    "f = open('file.txt')\n",
    "data = f.read(7)\n",
    "print(f.tell())\n",
    "f.close()"
   ]
  },
  {
   "cell_type": "code",
   "execution_count": 8,
   "metadata": {},
   "outputs": [
    {
     "name": "stdout",
     "output_type": "stream",
     "text": [
      "7\n",
      "15\n"
     ]
    }
   ],
   "source": [
    "f = open('file.txt')\n",
    "data = f.read(7)\n",
    "print(f.tell())\n",
    "f.seek(15)\n",
    "print(f.tell())\n",
    "f.close()\n"
   ]
  },
  {
   "cell_type": "code",
   "execution_count": 9,
   "metadata": {},
   "outputs": [],
   "source": [
    "## Syntax for with statement\n",
    "## with open(filename,filemode) as file_variable:\n",
    "\n",
    "## write\n",
    "## file_variable.write(data)\n",
    "\n",
    "with open('sai.txt','a')  as f1:\n",
    "    f1.write('Now we are discussing append mode')\n",
    "    \n",
    "    "
   ]
  },
  {
   "cell_type": "code",
   "execution_count": 11,
   "metadata": {},
   "outputs": [],
   "source": [
    "with open('sai.txt','w') as f2:\n",
    "    f2.write('Good evening all')"
   ]
  },
  {
   "cell_type": "code",
   "execution_count": 13,
   "metadata": {},
   "outputs": [],
   "source": [
    "with open('sai.txt','a')  as f1:\n",
    "    f1.write('\\nHope you are all doing well...')"
   ]
  },
  {
   "cell_type": "code",
   "execution_count": 14,
   "metadata": {},
   "outputs": [
    {
     "name": "stdout",
     "output_type": "stream",
     "text": [
      "Hello everyone\n",
      "Have a nice day...!\n",
      "\n"
     ]
    }
   ],
   "source": [
    "## Read lines in a data of file\n",
    "\n",
    "def readFile(filename):\n",
    "    with open(filename,'r') as f:\n",
    "        filedata = f.read()\n",
    "    return filedata\n",
    "print(readFile('file.txt'))\n"
   ]
  },
  {
   "cell_type": "code",
   "execution_count": 17,
   "metadata": {},
   "outputs": [
    {
     "name": "stdout",
     "output_type": "stream",
     "text": [
      "4\n"
     ]
    }
   ],
   "source": [
    "## Read lines in a data of file\n",
    "\n",
    "def readLines(filename):\n",
    "    return len(readFile(filename).split('\\n'))\n",
    "\n",
    "print(readLines('file.txt'))\n",
    "\n",
    "    \n"
   ]
  },
  {
   "cell_type": "code",
   "execution_count": 18,
   "metadata": {},
   "outputs": [
    {
     "name": "stdout",
     "output_type": "stream",
     "text": [
      "2\n"
     ]
    }
   ],
   "source": [
    "def readLines(filename):\n",
    "    return len(readFile(filename).split('\\n'))\n",
    "\n",
    "print(readLines('sai.txt'))"
   ]
  },
  {
   "cell_type": "code",
   "execution_count": 20,
   "metadata": {},
   "outputs": [
    {
     "data": {
      "text/plain": [
       "14"
      ]
     },
     "execution_count": 20,
     "metadata": {},
     "output_type": "execute_result"
    }
   ],
   "source": [
    "## Number of words in file\n",
    "\n",
    "def no_words(filename):\n",
    "    c = 0\n",
    "    with open(filename) as f:\n",
    "        filedata = f.readlines()\n",
    "        for line in filedata:\n",
    "            words_list = line.split()\n",
    "            c = c + len(words_list) ## c += len(words_list)\n",
    "    return c \n",
    "# no_words('file.txt')\n",
    "no_words('sai.txt')\n",
    "            \n",
    "            "
   ]
  },
  {
   "cell_type": "code",
   "execution_count": null,
   "metadata": {},
   "outputs": [],
   "source": []
  }
 ],
 "metadata": {
  "kernelspec": {
   "display_name": "Python 3",
   "language": "python",
   "name": "python3"
  },
  "language_info": {
   "codemirror_mode": {
    "name": "ipython",
    "version": 3
   },
   "file_extension": ".py",
   "mimetype": "text/x-python",
   "name": "python",
   "nbconvert_exporter": "python",
   "pygments_lexer": "ipython3",
   "version": "3.8.3"
  }
 },
 "nbformat": 4,
 "nbformat_minor": 4
}
